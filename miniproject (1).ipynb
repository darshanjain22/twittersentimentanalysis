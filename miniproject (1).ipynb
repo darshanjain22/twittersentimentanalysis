{
  "nbformat": 4,
  "nbformat_minor": 0,
  "metadata": {
    "kernelspec": {
      "name": "python3",
      "display_name": "Python 3.8.10 64-bit"
    },
    "language_info": {
      "pygments_lexer": "ipython3",
      "nbconvert_exporter": "python",
      "version": "3.8.10",
      "file_extension": ".py",
      "codemirror_mode": {
        "name": "ipython",
        "version": 3
      },
      "name": "python",
      "mimetype": "text/x-python"
    },
    "interpreter": {
      "hash": "31f2aee4e71d21fbe5cf8b01ff0e069b9275f58929596ceb00d14d90e3e16cd6"
    },
    "colab": {
      "name": "miniproject.ipynb",
      "provenance": [],
      "collapsed_sections": [
        "jRakxsAZHz4n",
        "WdU32oWsHz4o",
        "Ymb5q4eNHz4p",
        "-d2X_r6KHz4p",
        "cVUAxRnVHz4t",
        "gBwpnVOxHz4t",
        "h52a65lvHz4u",
        "DIUAzwPcHz4v",
        "Q-AvvFU7Hz4v",
        "VvYWb0ggHz4w",
        "06F-H6qVHz4x",
        "brDC_pD3Hz4y",
        "zSWAi_wpHz41",
        "zeMo1ZOMHz42"
      ]
    }
  },
  "cells": [
    {
      "cell_type": "markdown",
      "metadata": {
        "id": "UibtsC88Hz4W"
      },
      "source": [
        "<h2> <center>PUNE INSTITUE OF COMPUTER TECHNOLOGY</center><h2>\n",
        "<h3><center>MINI PROJECT</center><h3>\n",
        "<h2><center>TWITTER SENTIMENT ANALYSIS\n",
        "<center></h2>\n",
        "<h2><center>DARSHAN JAIN 43116</center></h2></p>"
      ]
    },
    {
      "cell_type": "markdown",
      "metadata": {
        "papermill": {
          "duration": 0.065466,
          "end_time": "2020-11-30T07:38:51.578836",
          "exception": false,
          "start_time": "2020-11-30T07:38:51.51337",
          "status": "completed"
        },
        "tags": [],
        "id": "P77YURuPHz4Y"
      },
      "source": [
        "<div class=\"alert alert-block alert-danger\">  \n",
        "<h2><center><strong>Importing Python Libraries 📕 📗 📘 📙</strong></center></h2>\n",
        "        \n",
        "</div>"
      ]
    },
    {
      "cell_type": "code",
      "metadata": {
        "id": "-E4TvIVLMa73",
        "scrolled": true,
        "trusted": true,
        "colab": {
          "base_uri": "https://localhost:8080/"
        },
        "outputId": "07e7ddd2-3743-46b8-e421-175197e758fd"
      },
      "source": [
        "import numpy as np \n",
        "import pandas as pd \n",
        "import seaborn as sns \n",
        "import matplotlib.pyplot as plt\n",
        "plt.style.use('ggplot')\n",
        "from sklearn.metrics import roc_curve, auc\n",
        "from sklearn.metrics import classification_report, confusion_matrix\n",
        "import nltk\n",
        "from nltk.corpus import stopwords\n",
        "from nltk.stem import PorterStemmer \n",
        "nltk.download('stopwords')\n",
        "from sklearn.model_selection import train_test_split\n",
        "from mlxtend.plotting import plot_confusion_matrix\n",
        "import matplotlib.cm as cm\n",
        "from matplotlib import rcParams\n",
        "from collections import Counter\n",
        "from nltk.tokenize import RegexpTokenizer\n",
        "import re\n",
        "import string\n",
        "from tensorflow.keras.layers import LSTM, Activation, Dense, Dropout, Input, Embedding\n",
        "from tensorflow.keras.models import Model\n",
        "from tensorflow.keras.optimizers import RMSprop\n",
        "from tensorflow.keras.preprocessing.text import Tokenizer\n",
        "from tensorflow.keras.preprocessing import sequence\n",
        "%matplotlib inline\n",
        "\n",
        "import warnings\n",
        "warnings.filterwarnings(\"ignore\")"
      ],
      "execution_count": null,
      "outputs": [
        {
          "output_type": "stream",
          "name": "stdout",
          "text": [
            "[nltk_data] Downloading package stopwords to /root/nltk_data...\n",
            "[nltk_data]   Package stopwords is already up-to-date!\n"
          ]
        }
      ]
    },
    {
      "cell_type": "markdown",
      "metadata": {
        "papermill": {
          "duration": 0.065466,
          "end_time": "2020-11-30T07:38:51.578836",
          "exception": false,
          "start_time": "2020-11-30T07:38:51.51337",
          "status": "completed"
        },
        "tags": [],
        "id": "kGI1yKEmHz4k"
      },
      "source": [
        "<div class=\"alert alert-block alert-danger\">  \n",
        "<h2><center><strong>Loading the data 📁 📂</strong></center></h2>\n",
        "        \n",
        "</div>"
      ]
    },
    {
      "cell_type": "code",
      "metadata": {
        "trusted": true,
        "id": "rIyGVRSzHz4k"
      },
      "source": [
        "data = pd.read_csv(\"https://raw.githubusercontent.com/darshanjain22/twittersentimentanalysis/main/testdata.manual.2009.06.14.csv\", encoding = \"ISO-8859-1\", engine=\"python\")\n",
        "data.columns = [\"label\", \"time\", \"date\", \"query\", \"username\", \"text\"]"
      ],
      "execution_count": null,
      "outputs": []
    },
    {
      "cell_type": "markdown",
      "metadata": {
        "papermill": {
          "duration": 0.065466,
          "end_time": "2020-11-30T07:38:51.578836",
          "exception": false,
          "start_time": "2020-11-30T07:38:51.51337",
          "status": "completed"
        },
        "tags": [],
        "id": "J218Dt3wHz4k"
      },
      "source": [
        "<div class=\"alert alert-block alert-danger\">  \n",
        "<h2><center><strong>Exploratory data analysis 🔎 📊</strong></center></h2>\n",
        "        \n",
        "</div>"
      ]
    },
    {
      "cell_type": "markdown",
      "metadata": {
        "id": "Lu0rCVBgHz4l"
      },
      "source": [
        "#### Five top records of data"
      ]
    },
    {
      "cell_type": "code",
      "metadata": {
        "trusted": true,
        "colab": {
          "base_uri": "https://localhost:8080/",
          "height": 289
        },
        "id": "yibGVa2VHz4l",
        "outputId": "ef4d48c4-c6d3-4e8d-dfd1-37ba65a3943e"
      },
      "source": [
        "data.head()"
      ],
      "execution_count": null,
      "outputs": [
        {
          "output_type": "execute_result",
          "data": {
            "text/html": [
              "<div>\n",
              "<style scoped>\n",
              "    .dataframe tbody tr th:only-of-type {\n",
              "        vertical-align: middle;\n",
              "    }\n",
              "\n",
              "    .dataframe tbody tr th {\n",
              "        vertical-align: top;\n",
              "    }\n",
              "\n",
              "    .dataframe thead th {\n",
              "        text-align: right;\n",
              "    }\n",
              "</style>\n",
              "<table border=\"1\" class=\"dataframe\">\n",
              "  <thead>\n",
              "    <tr style=\"text-align: right;\">\n",
              "      <th></th>\n",
              "      <th>label</th>\n",
              "      <th>time</th>\n",
              "      <th>date</th>\n",
              "      <th>query</th>\n",
              "      <th>username</th>\n",
              "      <th>text</th>\n",
              "    </tr>\n",
              "  </thead>\n",
              "  <tbody>\n",
              "    <tr>\n",
              "      <th>0</th>\n",
              "      <td>4</td>\n",
              "      <td>4</td>\n",
              "      <td>Mon May 11 03:18:03 UTC 2009</td>\n",
              "      <td>kindle2</td>\n",
              "      <td>vcu451</td>\n",
              "      <td>Reading my kindle2...  Love it... Lee childs i...</td>\n",
              "    </tr>\n",
              "    <tr>\n",
              "      <th>1</th>\n",
              "      <td>4</td>\n",
              "      <td>5</td>\n",
              "      <td>Mon May 11 03:18:54 UTC 2009</td>\n",
              "      <td>kindle2</td>\n",
              "      <td>chadfu</td>\n",
              "      <td>Ok, first assesment of the #kindle2 ...it fuck...</td>\n",
              "    </tr>\n",
              "    <tr>\n",
              "      <th>2</th>\n",
              "      <td>4</td>\n",
              "      <td>6</td>\n",
              "      <td>Mon May 11 03:19:04 UTC 2009</td>\n",
              "      <td>kindle2</td>\n",
              "      <td>SIX15</td>\n",
              "      <td>@kenburbary You'll love your Kindle2. I've had...</td>\n",
              "    </tr>\n",
              "    <tr>\n",
              "      <th>3</th>\n",
              "      <td>4</td>\n",
              "      <td>7</td>\n",
              "      <td>Mon May 11 03:21:41 UTC 2009</td>\n",
              "      <td>kindle2</td>\n",
              "      <td>yamarama</td>\n",
              "      <td>@mikefish  Fair enough. But i have the Kindle2...</td>\n",
              "    </tr>\n",
              "    <tr>\n",
              "      <th>4</th>\n",
              "      <td>4</td>\n",
              "      <td>8</td>\n",
              "      <td>Mon May 11 03:22:00 UTC 2009</td>\n",
              "      <td>kindle2</td>\n",
              "      <td>GeorgeVHulme</td>\n",
              "      <td>@richardebaker no. it is too big. I'm quite ha...</td>\n",
              "    </tr>\n",
              "  </tbody>\n",
              "</table>\n",
              "</div>"
            ],
            "text/plain": [
              "   label  time  ...      username                                               text\n",
              "0      4     4  ...        vcu451  Reading my kindle2...  Love it... Lee childs i...\n",
              "1      4     5  ...        chadfu  Ok, first assesment of the #kindle2 ...it fuck...\n",
              "2      4     6  ...         SIX15  @kenburbary You'll love your Kindle2. I've had...\n",
              "3      4     7  ...      yamarama  @mikefish  Fair enough. But i have the Kindle2...\n",
              "4      4     8  ...  GeorgeVHulme  @richardebaker no. it is too big. I'm quite ha...\n",
              "\n",
              "[5 rows x 6 columns]"
            ]
          },
          "metadata": {},
          "execution_count": 63
        }
      ]
    },
    {
      "cell_type": "markdown",
      "metadata": {
        "id": "3EoSLU72Hz4l"
      },
      "source": [
        "#### Five last records of data"
      ]
    },
    {
      "cell_type": "code",
      "metadata": {
        "trusted": true,
        "colab": {
          "base_uri": "https://localhost:8080/",
          "height": 289
        },
        "id": "g3cgnbUEHz4l",
        "outputId": "34a519d8-d697-4dd1-f9c4-ab02051fdf9a"
      },
      "source": [
        "data.tail()"
      ],
      "execution_count": null,
      "outputs": [
        {
          "output_type": "execute_result",
          "data": {
            "text/html": [
              "<div>\n",
              "<style scoped>\n",
              "    .dataframe tbody tr th:only-of-type {\n",
              "        vertical-align: middle;\n",
              "    }\n",
              "\n",
              "    .dataframe tbody tr th {\n",
              "        vertical-align: top;\n",
              "    }\n",
              "\n",
              "    .dataframe thead th {\n",
              "        text-align: right;\n",
              "    }\n",
              "</style>\n",
              "<table border=\"1\" class=\"dataframe\">\n",
              "  <thead>\n",
              "    <tr style=\"text-align: right;\">\n",
              "      <th></th>\n",
              "      <th>label</th>\n",
              "      <th>time</th>\n",
              "      <th>date</th>\n",
              "      <th>query</th>\n",
              "      <th>username</th>\n",
              "      <th>text</th>\n",
              "    </tr>\n",
              "  </thead>\n",
              "  <tbody>\n",
              "    <tr>\n",
              "      <th>492</th>\n",
              "      <td>2</td>\n",
              "      <td>14072</td>\n",
              "      <td>Sun Jun 14 04:31:43 UTC 2009</td>\n",
              "      <td>latex</td>\n",
              "      <td>proggit</td>\n",
              "      <td>Ask Programming: LaTeX or InDesign?: submitted...</td>\n",
              "    </tr>\n",
              "    <tr>\n",
              "      <th>493</th>\n",
              "      <td>0</td>\n",
              "      <td>14073</td>\n",
              "      <td>Sun Jun 14 04:32:17 UTC 2009</td>\n",
              "      <td>latex</td>\n",
              "      <td>sam33r</td>\n",
              "      <td>On that note, I hate Word. I hate Pages. I hat...</td>\n",
              "    </tr>\n",
              "    <tr>\n",
              "      <th>494</th>\n",
              "      <td>4</td>\n",
              "      <td>14074</td>\n",
              "      <td>Sun Jun 14 04:36:34 UTC 2009</td>\n",
              "      <td>latex</td>\n",
              "      <td>iamtheonlyjosie</td>\n",
              "      <td>Ahhh... back in a *real* text editing environm...</td>\n",
              "    </tr>\n",
              "    <tr>\n",
              "      <th>495</th>\n",
              "      <td>0</td>\n",
              "      <td>14075</td>\n",
              "      <td>Sun Jun 14 21:36:07 UTC 2009</td>\n",
              "      <td>iran</td>\n",
              "      <td>plutopup7</td>\n",
              "      <td>Trouble in Iran, I see. Hmm. Iran. Iran so far...</td>\n",
              "    </tr>\n",
              "    <tr>\n",
              "      <th>496</th>\n",
              "      <td>0</td>\n",
              "      <td>14076</td>\n",
              "      <td>Sun Jun 14 21:36:17 UTC 2009</td>\n",
              "      <td>iran</td>\n",
              "      <td>captain_pete</td>\n",
              "      <td>Reading the tweets coming out of Iran... The w...</td>\n",
              "    </tr>\n",
              "  </tbody>\n",
              "</table>\n",
              "</div>"
            ],
            "text/plain": [
              "     label  ...                                               text\n",
              "492      2  ...  Ask Programming: LaTeX or InDesign?: submitted...\n",
              "493      0  ...  On that note, I hate Word. I hate Pages. I hat...\n",
              "494      4  ...  Ahhh... back in a *real* text editing environm...\n",
              "495      0  ...  Trouble in Iran, I see. Hmm. Iran. Iran so far...\n",
              "496      0  ...  Reading the tweets coming out of Iran... The w...\n",
              "\n",
              "[5 rows x 6 columns]"
            ]
          },
          "metadata": {},
          "execution_count": 64
        }
      ]
    },
    {
      "cell_type": "markdown",
      "metadata": {
        "id": "6tNdkBLtHz4m"
      },
      "source": [
        "#### Coloumns/features in data"
      ]
    },
    {
      "cell_type": "code",
      "metadata": {
        "trusted": true,
        "colab": {
          "base_uri": "https://localhost:8080/"
        },
        "id": "KreT3jO7Hz4m",
        "outputId": "782efea1-2b91-4c4b-b07c-e69ff353e79e"
      },
      "source": [
        "data.columns"
      ],
      "execution_count": null,
      "outputs": [
        {
          "output_type": "execute_result",
          "data": {
            "text/plain": [
              "Index(['label', 'time', 'date', 'query', 'username', 'text'], dtype='object')"
            ]
          },
          "metadata": {},
          "execution_count": 65
        }
      ]
    },
    {
      "cell_type": "markdown",
      "metadata": {
        "id": "PiNJ9FbCHz4m"
      },
      "source": [
        "#### Length of data"
      ]
    },
    {
      "cell_type": "code",
      "metadata": {
        "trusted": true,
        "colab": {
          "base_uri": "https://localhost:8080/"
        },
        "id": "VSxkdXOeHz4m",
        "outputId": "b5f398a9-b800-4545-9c2b-24a5e685b867"
      },
      "source": [
        "print('lenght of data is', len(data))"
      ],
      "execution_count": null,
      "outputs": [
        {
          "output_type": "stream",
          "name": "stdout",
          "text": [
            "lenght of data is 497\n"
          ]
        }
      ]
    },
    {
      "cell_type": "markdown",
      "metadata": {
        "id": "V3UW-uGaHz4m"
      },
      "source": [
        "#### Shape of data"
      ]
    },
    {
      "cell_type": "code",
      "metadata": {
        "trusted": true,
        "colab": {
          "base_uri": "https://localhost:8080/"
        },
        "id": "NaTtrIrMHz4n",
        "outputId": "f122c763-a5ba-4400-8366-a1fcfda63c11"
      },
      "source": [
        "data.shape"
      ],
      "execution_count": null,
      "outputs": [
        {
          "output_type": "execute_result",
          "data": {
            "text/plain": [
              "(497, 6)"
            ]
          },
          "metadata": {},
          "execution_count": 67
        }
      ]
    },
    {
      "cell_type": "markdown",
      "metadata": {
        "id": "jRakxsAZHz4n"
      },
      "source": [
        "#### Data information"
      ]
    },
    {
      "cell_type": "code",
      "metadata": {
        "trusted": true,
        "colab": {
          "base_uri": "https://localhost:8080/"
        },
        "id": "AL609RHhHz4n",
        "outputId": "1f9b4ee5-9920-4cd5-8bb9-2cbfb6070dcd"
      },
      "source": [
        "data.info()"
      ],
      "execution_count": null,
      "outputs": [
        {
          "output_type": "stream",
          "name": "stdout",
          "text": [
            "<class 'pandas.core.frame.DataFrame'>\n",
            "RangeIndex: 497 entries, 0 to 496\n",
            "Data columns (total 6 columns):\n",
            " #   Column    Non-Null Count  Dtype \n",
            "---  ------    --------------  ----- \n",
            " 0   label     497 non-null    int64 \n",
            " 1   time      497 non-null    int64 \n",
            " 2   date      497 non-null    object\n",
            " 3   query     497 non-null    object\n",
            " 4   username  497 non-null    object\n",
            " 5   text      497 non-null    object\n",
            "dtypes: int64(2), object(4)\n",
            "memory usage: 23.4+ KB\n"
          ]
        }
      ]
    },
    {
      "cell_type": "markdown",
      "metadata": {
        "id": "WdU32oWsHz4o"
      },
      "source": [
        "#### Data types of all coloumns"
      ]
    },
    {
      "cell_type": "code",
      "metadata": {
        "trusted": true,
        "colab": {
          "base_uri": "https://localhost:8080/"
        },
        "id": "TZRxZlfZHz4o",
        "outputId": "2a8ef57f-6e6d-4d12-be3d-c2b604eb64f3"
      },
      "source": [
        "data.dtypes"
      ],
      "execution_count": null,
      "outputs": [
        {
          "output_type": "execute_result",
          "data": {
            "text/plain": [
              "label        int64\n",
              "time         int64\n",
              "date        object\n",
              "query       object\n",
              "username    object\n",
              "text        object\n",
              "dtype: object"
            ]
          },
          "metadata": {},
          "execution_count": 69
        }
      ]
    },
    {
      "cell_type": "markdown",
      "metadata": {
        "id": "Ymb5q4eNHz4p"
      },
      "source": [
        "#### Checking Null values"
      ]
    },
    {
      "cell_type": "code",
      "metadata": {
        "scrolled": true,
        "trusted": true,
        "colab": {
          "base_uri": "https://localhost:8080/"
        },
        "id": "L1elMA_kHz4p",
        "outputId": "f1aea8d7-03da-4a01-a7b6-109a391073ef"
      },
      "source": [
        "np.sum(data.isnull().any(axis=1))"
      ],
      "execution_count": null,
      "outputs": [
        {
          "output_type": "execute_result",
          "data": {
            "text/plain": [
              "0"
            ]
          },
          "metadata": {},
          "execution_count": 70
        }
      ]
    },
    {
      "cell_type": "markdown",
      "metadata": {
        "id": "-d2X_r6KHz4p"
      },
      "source": [
        "#### Rows and columns in the dataset"
      ]
    },
    {
      "cell_type": "code",
      "metadata": {
        "trusted": true,
        "colab": {
          "base_uri": "https://localhost:8080/"
        },
        "id": "-NKb8L3YHz4q",
        "outputId": "12ef3e92-9cd5-4978-9caa-2ee08a8320a9"
      },
      "source": [
        "print('Count of columns in the data is:  ', len(data.columns))"
      ],
      "execution_count": null,
      "outputs": [
        {
          "output_type": "stream",
          "name": "stdout",
          "text": [
            "Count of columns in the data is:   6\n"
          ]
        }
      ]
    },
    {
      "cell_type": "code",
      "metadata": {
        "trusted": true,
        "colab": {
          "base_uri": "https://localhost:8080/"
        },
        "id": "BmezpHaKHz4q",
        "outputId": "a3926926-ca8e-417e-ea45-be188e0a05bb"
      },
      "source": [
        "print('Count of rows in the data is:  ', len(data))"
      ],
      "execution_count": null,
      "outputs": [
        {
          "output_type": "stream",
          "name": "stdout",
          "text": [
            "Count of rows in the data is:   497\n"
          ]
        }
      ]
    },
    {
      "cell_type": "markdown",
      "metadata": {
        "id": "6ytZg0RgHz4q"
      },
      "source": [
        "<h1><center><strong>Data Preparation 📝</strong></center></h1>"
      ]
    },
    {
      "cell_type": "code",
      "metadata": {
        "trusted": true,
        "id": "biAc2OngHz4q"
      },
      "source": [
        "data=data[['text','label']]"
      ],
      "execution_count": null,
      "outputs": []
    },
    {
      "cell_type": "code",
      "metadata": {
        "trusted": true,
        "id": "I_wFgx3mHz4r"
      },
      "source": [
        "data['label'][data['label']==4]=1"
      ],
      "execution_count": null,
      "outputs": []
    },
    {
      "cell_type": "code",
      "metadata": {
        "trusted": true,
        "id": "8Lh0GJBJHz4r"
      },
      "source": [
        "data_pos = data[data['label'] == 1]\n",
        "data_neg = data[data['label'] == 0]"
      ],
      "execution_count": null,
      "outputs": []
    },
    {
      "cell_type": "code",
      "metadata": {
        "trusted": true,
        "id": "D-EEfAY9Hz4r"
      },
      "source": [
        "data_pos = data_pos.iloc[:int(20000)]\n",
        "data_neg = data_neg.iloc[:int(20000)]"
      ],
      "execution_count": null,
      "outputs": []
    },
    {
      "cell_type": "code",
      "metadata": {
        "trusted": true,
        "id": "1ZuAWi7wHz4r"
      },
      "source": [
        "data = pd.concat([data_pos, data_neg])"
      ],
      "execution_count": null,
      "outputs": []
    },
    {
      "cell_type": "code",
      "metadata": {
        "trusted": true,
        "id": "mrDTLJ1iHz4r"
      },
      "source": [
        "data['text']=data['text'].str.lower()"
      ],
      "execution_count": null,
      "outputs": []
    },
    {
      "cell_type": "code",
      "metadata": {
        "trusted": true,
        "colab": {
          "base_uri": "https://localhost:8080/"
        },
        "id": "EMbg3hFHHz4s",
        "outputId": "8d2a9af5-fd9c-4da5-b043-c6002ea6bcad"
      },
      "source": [
        "data['text'].tail()"
      ],
      "execution_count": null,
      "outputs": [
        {
          "output_type": "execute_result",
          "data": {
            "text/plain": [
              "484    monday already. iran may implode. kitchen is a...\n",
              "489    i just created my first latex file from scratc...\n",
              "493    on that note, i hate word. i hate pages. i hat...\n",
              "495    trouble in iran, i see. hmm. iran. iran so far...\n",
              "496    reading the tweets coming out of iran... the w...\n",
              "Name: text, dtype: object"
            ]
          },
          "metadata": {},
          "execution_count": 79
        }
      ]
    },
    {
      "cell_type": "markdown",
      "metadata": {
        "id": "1y2y9TgAHz4s"
      },
      "source": [
        "#### Cleaning and removing Stop words of english"
      ]
    },
    {
      "cell_type": "code",
      "metadata": {
        "trusted": true,
        "id": "gGHPJADAHz4s"
      },
      "source": [
        "stopwords_list = stopwords.words('english')"
      ],
      "execution_count": null,
      "outputs": []
    },
    {
      "cell_type": "code",
      "metadata": {
        "trusted": true,
        "colab": {
          "base_uri": "https://localhost:8080/",
          "height": 239
        },
        "id": "8BN3W6bbHz4s",
        "outputId": "17f74567-dd08-4138-ed73-ef4bbe468335"
      },
      "source": [
        "from nltk.corpus import stopwords\n",
        "\", \".join(stopwords.words('english'))"
      ],
      "execution_count": null,
      "outputs": [
        {
          "output_type": "execute_result",
          "data": {
            "application/vnd.google.colaboratory.intrinsic+json": {
              "type": "string"
            },
            "text/plain": [
              "\"i, me, my, myself, we, our, ours, ourselves, you, you're, you've, you'll, you'd, your, yours, yourself, yourselves, he, him, his, himself, she, she's, her, hers, herself, it, it's, its, itself, they, them, their, theirs, themselves, what, which, who, whom, this, that, that'll, these, those, am, is, are, was, were, be, been, being, have, has, had, having, do, does, did, doing, a, an, the, and, but, if, or, because, as, until, while, of, at, by, for, with, about, against, between, into, through, during, before, after, above, below, to, from, up, down, in, out, on, off, over, under, again, further, then, once, here, there, when, where, why, how, all, any, both, each, few, more, most, other, some, such, no, nor, not, only, own, same, so, than, too, very, s, t, can, will, just, don, don't, should, should've, now, d, ll, m, o, re, ve, y, ain, aren, aren't, couldn, couldn't, didn, didn't, doesn, doesn't, hadn, hadn't, hasn, hasn't, haven, haven't, isn, isn't, ma, mightn, mightn't, mustn, mustn't, needn, needn't, shan, shan't, shouldn, shouldn't, wasn, wasn't, weren, weren't, won, won't, wouldn, wouldn't\""
            ]
          },
          "metadata": {},
          "execution_count": 81
        }
      ]
    },
    {
      "cell_type": "markdown",
      "metadata": {
        "id": "cVUAxRnVHz4t"
      },
      "source": [
        "#### Cleaning and removing the above stop words list from the tweet text"
      ]
    },
    {
      "cell_type": "code",
      "metadata": {
        "trusted": true,
        "colab": {
          "base_uri": "https://localhost:8080/"
        },
        "id": "6GpFOad8Hz4t",
        "outputId": "a433db01-4044-44b3-e826-0030f308d8e3"
      },
      "source": [
        "STOPWORDS = set(stopwords.words('english'))\n",
        "def cleaning_stopwords(text):\n",
        "    return \" \".join([word for word in str(text).split() if word not in STOPWORDS])\n",
        "data['text'] = data['text'].apply(lambda text: cleaning_stopwords(text))\n",
        "data['text'].head()"
      ],
      "execution_count": null,
      "outputs": [
        {
          "output_type": "execute_result",
          "data": {
            "text/plain": [
              "0    reading kindle2... love it... lee childs good ...\n",
              "1    ok, first assesment #kindle2 ...it fucking roc...\n",
              "2    @kenburbary love kindle2. i've mine months nev...\n",
              "3      @mikefish fair enough. kindle2 think perfect :)\n",
              "4     @richardebaker no. big. i'm quite happy kindle2.\n",
              "Name: text, dtype: object"
            ]
          },
          "metadata": {},
          "execution_count": 82
        }
      ]
    },
    {
      "cell_type": "markdown",
      "metadata": {
        "id": "gBwpnVOxHz4t"
      },
      "source": [
        "#### Cleaning and removing punctuations "
      ]
    },
    {
      "cell_type": "code",
      "metadata": {
        "trusted": true,
        "id": "6Ga5pb1AHz4u"
      },
      "source": [
        "english_punctuations = string.punctuation\n",
        "punctuations_list = english_punctuations\n",
        "def cleaning_punctuations(text):\n",
        "    translator = str.maketrans('', '', punctuations_list)\n",
        "    return text.translate(translator)"
      ],
      "execution_count": null,
      "outputs": []
    },
    {
      "cell_type": "code",
      "metadata": {
        "trusted": true,
        "colab": {
          "base_uri": "https://localhost:8080/"
        },
        "id": "yQ-3oanRHz4u",
        "outputId": "bfcf9da6-faa1-4958-960f-e5b9bbab9ecf"
      },
      "source": [
        "data['text']= data['text'].apply(lambda x: cleaning_punctuations(x))\n",
        "data['text'].tail()"
      ],
      "execution_count": null,
      "outputs": [
        {
          "output_type": "execute_result",
          "data": {
            "text/plain": [
              "484    monday already iran may implode kitchen disast...\n",
              "489    created first latex file scratch work well see...\n",
              "493    note hate word hate pages hate latex there sai...\n",
              "495    trouble iran see hmm iran iran far away flocko...\n",
              "496    reading tweets coming iran whole thing terrify...\n",
              "Name: text, dtype: object"
            ]
          },
          "metadata": {},
          "execution_count": 84
        }
      ]
    },
    {
      "cell_type": "markdown",
      "metadata": {
        "id": "h52a65lvHz4u"
      },
      "source": [
        "#### Cleaning and removing repeating characters"
      ]
    },
    {
      "cell_type": "code",
      "metadata": {
        "trusted": true,
        "id": "vZid9zVvHz4u"
      },
      "source": [
        "def cleaning_repeating_char(text):\n",
        "    return re.sub(r'(.)\\1+', r'\\1', text)"
      ],
      "execution_count": null,
      "outputs": []
    },
    {
      "cell_type": "code",
      "metadata": {
        "trusted": true,
        "colab": {
          "base_uri": "https://localhost:8080/"
        },
        "id": "WC_2pcTYHz4v",
        "outputId": "a299e2a4-19ad-4979-f305-70135b38fbc2"
      },
      "source": [
        "data['text'] = data['text'].apply(lambda x: cleaning_repeating_char(x))\n",
        "data['text'].tail()"
      ],
      "execution_count": null,
      "outputs": [
        {
          "output_type": "execute_result",
          "data": {
            "text/plain": [
              "484    monday already iran may implode kitchen disast...\n",
              "489    created first latex file scratch work wel se a...\n",
              "493    note hate word hate pages hate latex there sai...\n",
              "495    trouble iran se hm iran iran far away flockofs...\n",
              "496    reading twets coming iran whole thing terifyin...\n",
              "Name: text, dtype: object"
            ]
          },
          "metadata": {},
          "execution_count": 86
        }
      ]
    },
    {
      "cell_type": "markdown",
      "metadata": {
        "id": "DIUAzwPcHz4v"
      },
      "source": [
        "#### Cleaning and removing email"
      ]
    },
    {
      "cell_type": "code",
      "metadata": {
        "trusted": true,
        "id": "j2EY7mGbHz4v"
      },
      "source": [
        "def cleaning_email(data):\n",
        "    return re.sub('@[^\\s]+', ' ', data)"
      ],
      "execution_count": null,
      "outputs": []
    },
    {
      "cell_type": "code",
      "metadata": {
        "trusted": true,
        "colab": {
          "base_uri": "https://localhost:8080/"
        },
        "id": "5q0M-yzEHz4v",
        "outputId": "2e50f216-691b-419d-d40d-c5f6e8f6e0d8"
      },
      "source": [
        "data['text']= data['text'].apply(lambda x: cleaning_email(x))\n",
        "data['text'].tail()"
      ],
      "execution_count": null,
      "outputs": [
        {
          "output_type": "execute_result",
          "data": {
            "text/plain": [
              "484    monday already iran may implode kitchen disast...\n",
              "489    created first latex file scratch work wel se a...\n",
              "493    note hate word hate pages hate latex there sai...\n",
              "495    trouble iran se hm iran iran far away flockofs...\n",
              "496    reading twets coming iran whole thing terifyin...\n",
              "Name: text, dtype: object"
            ]
          },
          "metadata": {},
          "execution_count": 88
        }
      ]
    },
    {
      "cell_type": "markdown",
      "metadata": {
        "id": "Q-AvvFU7Hz4v"
      },
      "source": [
        "#### Cleaning and removing URL's"
      ]
    },
    {
      "cell_type": "code",
      "metadata": {
        "trusted": true,
        "id": "a_5Iw2uPHz4v"
      },
      "source": [
        "def cleaning_URLs(data):\n",
        "    return re.sub('((www\\.[^\\s]+)|(https?://[^\\s]+))',' ',data)"
      ],
      "execution_count": null,
      "outputs": []
    },
    {
      "cell_type": "code",
      "metadata": {
        "trusted": true,
        "colab": {
          "base_uri": "https://localhost:8080/"
        },
        "id": "Wt4am6dKHz4w",
        "outputId": "2f1d124e-a6d8-4453-eafc-fae66539b193"
      },
      "source": [
        "data['text'] = data['text'].apply(lambda x: cleaning_URLs(x))\n",
        "data['text'].tail()"
      ],
      "execution_count": null,
      "outputs": [
        {
          "output_type": "execute_result",
          "data": {
            "text/plain": [
              "484    monday already iran may implode kitchen disast...\n",
              "489    created first latex file scratch work wel se a...\n",
              "493    note hate word hate pages hate latex there sai...\n",
              "495    trouble iran se hm iran iran far away flockofs...\n",
              "496    reading twets coming iran whole thing terifyin...\n",
              "Name: text, dtype: object"
            ]
          },
          "metadata": {},
          "execution_count": 90
        }
      ]
    },
    {
      "cell_type": "markdown",
      "metadata": {
        "id": "VvYWb0ggHz4w"
      },
      "source": [
        "#### Cleaning and removing Numeric numbers"
      ]
    },
    {
      "cell_type": "code",
      "metadata": {
        "trusted": true,
        "id": "_AjHZO-PHz4w"
      },
      "source": [
        "def cleaning_numbers(data):\n",
        "    return re.sub('[0-9]+', '', data)"
      ],
      "execution_count": null,
      "outputs": []
    },
    {
      "cell_type": "code",
      "metadata": {
        "trusted": true,
        "colab": {
          "base_uri": "https://localhost:8080/"
        },
        "id": "BGTylp16Hz4w",
        "outputId": "0c18e122-d8af-4e2d-ad07-3dca99b57b10"
      },
      "source": [
        "data['text'] = data['text'].apply(lambda x: cleaning_numbers(x))\n",
        "data['text'].tail()"
      ],
      "execution_count": null,
      "outputs": [
        {
          "output_type": "execute_result",
          "data": {
            "text/plain": [
              "484    monday already iran may implode kitchen disast...\n",
              "489    created first latex file scratch work wel se a...\n",
              "493    note hate word hate pages hate latex there sai...\n",
              "495    trouble iran se hm iran iran far away flockofs...\n",
              "496    reading twets coming iran whole thing terifyin...\n",
              "Name: text, dtype: object"
            ]
          },
          "metadata": {},
          "execution_count": 92
        }
      ]
    },
    {
      "cell_type": "markdown",
      "metadata": {
        "id": "06F-H6qVHz4x"
      },
      "source": [
        "#### Getting tokenization of tweet text"
      ]
    },
    {
      "cell_type": "code",
      "metadata": {
        "trusted": true,
        "id": "dhLZv2CxHz4x"
      },
      "source": [
        "tokenizer = RegexpTokenizer(r'\\w+')\n",
        "data['text'] = data['text'].apply(tokenizer.tokenize)"
      ],
      "execution_count": null,
      "outputs": []
    },
    {
      "cell_type": "code",
      "metadata": {
        "trusted": true,
        "colab": {
          "base_uri": "https://localhost:8080/"
        },
        "id": "x4WTQvO2Hz4x",
        "outputId": "fac47b3c-43d7-4773-8ce7-9100bbe946cf"
      },
      "source": [
        "data['text'].head()"
      ],
      "execution_count": null,
      "outputs": [
        {
          "output_type": "execute_result",
          "data": {
            "text/plain": [
              "0    [reading, kindle, love, it, le, childs, god, r...\n",
              "1    [ok, first, asesment, kindle, it, fucking, rocks]\n",
              "2    [kenburbary, love, kindle, ive, mine, months, ...\n",
              "3     [mikefish, fair, enough, kindle, think, perfect]\n",
              "4    [richardebaker, no, big, im, quite, hapy, kindle]\n",
              "Name: text, dtype: object"
            ]
          },
          "metadata": {},
          "execution_count": 94
        }
      ]
    },
    {
      "cell_type": "markdown",
      "metadata": {
        "id": "brDC_pD3Hz4y"
      },
      "source": [
        "#### Applying Stemming"
      ]
    },
    {
      "cell_type": "code",
      "metadata": {
        "trusted": true,
        "id": "Cc0eoazlHz4y"
      },
      "source": [
        "st = nltk.PorterStemmer()\n",
        "def stemming_on_text(data):\n",
        "    text = [st.stem(word) for word in data]\n",
        "    return data\n",
        "\n",
        "data['text']= data['text'].apply(lambda x: stemming_on_text(x))"
      ],
      "execution_count": null,
      "outputs": []
    },
    {
      "cell_type": "code",
      "metadata": {
        "trusted": true,
        "colab": {
          "base_uri": "https://localhost:8080/"
        },
        "id": "2RuoXi6BHz40",
        "outputId": "ea09ff5a-644e-43b5-ac35-1d5be34edbc9"
      },
      "source": [
        "data['text'].head()"
      ],
      "execution_count": null,
      "outputs": [
        {
          "output_type": "execute_result",
          "data": {
            "text/plain": [
              "0    [reading, kindle, love, it, le, childs, god, r...\n",
              "1    [ok, first, asesment, kindle, it, fucking, rocks]\n",
              "2    [kenburbary, love, kindle, ive, mine, months, ...\n",
              "3     [mikefish, fair, enough, kindle, think, perfect]\n",
              "4    [richardebaker, no, big, im, quite, hapy, kindle]\n",
              "Name: text, dtype: object"
            ]
          },
          "metadata": {},
          "execution_count": 96
        }
      ]
    },
    {
      "cell_type": "markdown",
      "metadata": {
        "id": "63vevSdZHz40"
      },
      "source": [
        "#### Applying Lemmatizer"
      ]
    },
    {
      "cell_type": "code",
      "metadata": {
        "trusted": true,
        "colab": {
          "base_uri": "https://localhost:8080/"
        },
        "id": "F5_FHipvHz40",
        "outputId": "070d04de-ef81-4796-deb1-7ae2e2423f70"
      },
      "source": [
        "nltk.download('wordnet')\n",
        "lm = nltk.WordNetLemmatizer()\n",
        "def lemmatizer_on_text(data):\n",
        "    text = [lm.lemmatize(word) for word in data]\n",
        "    return data\n",
        "\n",
        "data['text'] = data['text'].apply(lambda x: lemmatizer_on_text(x))"
      ],
      "execution_count": null,
      "outputs": [
        {
          "output_type": "stream",
          "name": "stdout",
          "text": [
            "[nltk_data] Downloading package wordnet to /root/nltk_data...\n",
            "[nltk_data]   Package wordnet is already up-to-date!\n"
          ]
        }
      ]
    },
    {
      "cell_type": "code",
      "metadata": {
        "trusted": true,
        "colab": {
          "base_uri": "https://localhost:8080/"
        },
        "id": "7su-kKfzHz41",
        "outputId": "cd017786-3805-4bb6-cc08-44e359f10859"
      },
      "source": [
        "data['text'].head()"
      ],
      "execution_count": null,
      "outputs": [
        {
          "output_type": "execute_result",
          "data": {
            "text/plain": [
              "0    [reading, kindle, love, it, le, childs, god, r...\n",
              "1    [ok, first, asesment, kindle, it, fucking, rocks]\n",
              "2    [kenburbary, love, kindle, ive, mine, months, ...\n",
              "3     [mikefish, fair, enough, kindle, think, perfect]\n",
              "4    [richardebaker, no, big, im, quite, hapy, kindle]\n",
              "Name: text, dtype: object"
            ]
          },
          "metadata": {},
          "execution_count": 98
        }
      ]
    },
    {
      "cell_type": "markdown",
      "metadata": {
        "id": "zSWAi_wpHz41"
      },
      "source": [
        "####  Separating input feature and label"
      ]
    },
    {
      "cell_type": "code",
      "metadata": {
        "trusted": true,
        "id": "SGHagmItHz41"
      },
      "source": [
        "X=data.text\n",
        "y=data.label"
      ],
      "execution_count": null,
      "outputs": []
    },
    {
      "cell_type": "code",
      "metadata": {
        "id": "plIFObh4jYJV",
        "trusted": true
      },
      "source": [
        "max_len = 500\n",
        "tok = Tokenizer(num_words=2000)\n",
        "tok.fit_on_texts(X)\n",
        "sequences = tok.texts_to_sequences(X)\n",
        "sequences_matrix = sequence.pad_sequences(sequences,maxlen=max_len)"
      ],
      "execution_count": null,
      "outputs": []
    },
    {
      "cell_type": "code",
      "metadata": {
        "trusted": true,
        "colab": {
          "base_uri": "https://localhost:8080/"
        },
        "id": "RZrOIzRpHz41",
        "outputId": "9283c832-266c-4482-fec8-2503e15c7b0d"
      },
      "source": [
        "sequences_matrix.shape"
      ],
      "execution_count": null,
      "outputs": [
        {
          "output_type": "execute_result",
          "data": {
            "text/plain": [
              "(358, 500)"
            ]
          },
          "metadata": {},
          "execution_count": 101
        }
      ]
    },
    {
      "cell_type": "markdown",
      "metadata": {
        "id": "zeMo1ZOMHz42"
      },
      "source": [
        "#### Separating the 70% data for training data and 30% for testing data"
      ]
    },
    {
      "cell_type": "code",
      "metadata": {
        "id": "oOlkTTg4oRqR",
        "trusted": true
      },
      "source": [
        "X_train, X_test, Y_train, Y_test = train_test_split(sequences_matrix, y, test_size=0.3, random_state=2)"
      ],
      "execution_count": null,
      "outputs": []
    },
    {
      "cell_type": "markdown",
      "metadata": {
        "papermill": {
          "duration": 0.065466,
          "end_time": "2020-11-30T07:38:51.578836",
          "exception": false,
          "start_time": "2020-11-30T07:38:51.51337",
          "status": "completed"
        },
        "tags": [],
        "id": "InVsG8cVHz42"
      },
      "source": [
        "<div class=\"alert alert-block alert-danger\">  \n",
        "<h2><center><strong>Implementing Tensorflow based model for training 🧪</strong></center></h2>   \n",
        "</div>"
      ]
    },
    {
      "cell_type": "code",
      "metadata": {
        "trusted": true,
        "id": "Hc0U3A45Hz42"
      },
      "source": [
        "def tensorflow_based_model(): #Defined tensorflow_based_model function for training tenforflow based model\n",
        "    inputs = Input(name='inputs',shape=[max_len])#step1\n",
        "    layer = Embedding(2000,50,input_length=max_len)(inputs) #step2\n",
        "    layer = LSTM(64)(layer) #step3\n",
        "    layer = Dense(256,name='FC1')(layer) #step4\n",
        "    layer = Activation('relu')(layer) # step5\n",
        "    layer = Dropout(0.5)(layer) # step6\n",
        "    layer = Dense(1,name='out_layer')(layer) #step4 again but this time its giving only one output as because we need to classify the tweet as positive or negative\n",
        "    layer = Activation('sigmoid')(layer) #step5 but this time activation function is sigmoid for only one output.\n",
        "    model = Model(inputs=inputs,outputs=layer) #here we are getting the final output value in the model for classification\n",
        "    return model #function returning the value when we call it"
      ],
      "execution_count": null,
      "outputs": []
    },
    {
      "cell_type": "markdown",
      "metadata": {
        "id": "MbHesn34Hz42"
      },
      "source": [
        "# Model compilation"
      ]
    },
    {
      "cell_type": "code",
      "metadata": {
        "trusted": true,
        "id": "7u3JMfu3Hz42"
      },
      "source": [
        "model = tensorflow_based_model() # here we are calling the function of created model\n",
        "model.compile(loss='binary_crossentropy',optimizer=RMSprop(),metrics=['accuracy'])  "
      ],
      "execution_count": null,
      "outputs": []
    },
    {
      "cell_type": "code",
      "metadata": {
        "trusted": true,
        "colab": {
          "base_uri": "https://localhost:8080/"
        },
        "id": "16CpBjpSHz43",
        "outputId": "c6b860c7-3023-42f5-f2f5-bb67f92d66e4"
      },
      "source": [
        "history=model.fit(X_train,Y_train,batch_size=80,epochs=6, validation_split=0.1)# here we are starting the training of model by feeding the training data\n",
        "print('Training finished !!')"
      ],
      "execution_count": null,
      "outputs": [
        {
          "output_type": "stream",
          "name": "stdout",
          "text": [
            "Epoch 1/6\n",
            "3/3 [==============================] - 5s 742ms/step - loss: 0.6936 - accuracy: 0.4711 - val_loss: 0.6955 - val_accuracy: 0.4000\n",
            "Epoch 2/6\n",
            "3/3 [==============================] - 1s 458ms/step - loss: 0.6874 - accuracy: 0.5378 - val_loss: 0.6899 - val_accuracy: 0.5200\n",
            "Epoch 3/6\n",
            "3/3 [==============================] - 1s 446ms/step - loss: 0.6674 - accuracy: 0.7644 - val_loss: 0.6834 - val_accuracy: 0.4800\n",
            "Epoch 4/6\n",
            "3/3 [==============================] - 1s 447ms/step - loss: 0.6290 - accuracy: 0.7956 - val_loss: 0.6504 - val_accuracy: 0.8400\n",
            "Epoch 5/6\n",
            "3/3 [==============================] - 1s 435ms/step - loss: 0.5338 - accuracy: 0.9778 - val_loss: 0.7599 - val_accuracy: 0.4400\n",
            "Epoch 6/6\n",
            "3/3 [==============================] - 1s 443ms/step - loss: 0.4559 - accuracy: 0.8222 - val_loss: 0.5734 - val_accuracy: 0.8000\n",
            "Training finished !!\n"
          ]
        }
      ]
    },
    {
      "cell_type": "code",
      "metadata": {
        "id": "LlxD3pU9U0ws",
        "trusted": true,
        "colab": {
          "base_uri": "https://localhost:8080/"
        },
        "outputId": "485cc836-5606-4051-d70a-ec362b85d91f"
      },
      "source": [
        "accr1 = model.evaluate(X_test,Y_test) #we are starting to test the model here"
      ],
      "execution_count": null,
      "outputs": [
        {
          "output_type": "stream",
          "name": "stdout",
          "text": [
            "4/4 [==============================] - 0s 61ms/step - loss: 0.5480 - accuracy: 0.8241\n"
          ]
        }
      ]
    },
    {
      "cell_type": "code",
      "metadata": {
        "id": "E2bQq4jaU0wt",
        "trusted": true,
        "colab": {
          "base_uri": "https://localhost:8080/"
        },
        "outputId": "8b84adea-3a16-465c-b5d8-24756c04b7da"
      },
      "source": [
        "print('Test set\\n  Accuracy: {:0.2f}'.format(accr1[1])) #the accuracy of the model on test data is given below"
      ],
      "execution_count": null,
      "outputs": [
        {
          "output_type": "stream",
          "name": "stdout",
          "text": [
            "Test set\n",
            "  Accuracy: 0.82\n"
          ]
        }
      ]
    },
    {
      "cell_type": "code",
      "metadata": {
        "trusted": true,
        "id": "avApuVc5Hz43"
      },
      "source": [
        "y_pred = model.predict(X_test) #getting predictions on the trained model\n",
        "y_pred = (y_pred > 0.5) "
      ],
      "execution_count": null,
      "outputs": []
    },
    {
      "cell_type": "code",
      "metadata": {
        "id": "WERD7KXs8YmQ",
        "trusted": true,
        "colab": {
          "base_uri": "https://localhost:8080/",
          "height": 733
        },
        "outputId": "d5f84555-acd8-4301-d5f7-9bbd182a59f1"
      },
      "source": [
        "print('\\n')\n",
        "print(\"confusion matrix\")\n",
        "print('\\n')\n",
        "CR=confusion_matrix(Y_test, y_pred)\n",
        "print(CR)\n",
        "print('\\n')\n",
        "\n",
        "fig, ax = plot_confusion_matrix(conf_mat=CR,figsize=(10, 10),\n",
        "                                show_absolute=True,\n",
        "                                show_normed=True,\n",
        "                                colorbar=True)\n",
        "plt.show()"
      ],
      "execution_count": null,
      "outputs": [
        {
          "output_type": "stream",
          "name": "stdout",
          "text": [
            "\n",
            "\n",
            "confusion matrix\n",
            "\n",
            "\n",
            "[[46  5]\n",
            " [14 43]]\n",
            "\n",
            "\n"
          ]
        },
        {
          "output_type": "display_data",
          "data": {
            "image/png": "[encoded data removed]",
            "text/plain": [
              "<Figure size 720x720 with 2 Axes>"
            ]
          },
          "metadata": {
            "needs_background": "light"
          }
        }
      ]
    },
    {
      "cell_type": "markdown",
      "metadata": {
        "id": "4NFpxWpYHz43"
      },
      "source": [
        " \n",
        "<h1><center><strong>Conclusion 📝</strong></center></h1>\n",
        "    <p>\n",
        "<li>We used the twitter sentiment analysis dataset and explored the data with different ways.</li>\n",
        "        <li>We prepared the text data of tweets by removing the unnecessary things.</li>\n",
        "          <li>We trained model based on tensorflow with all settings. </li>\n",
        "        <li>We evaluated the model with different evaluation measures.</li>\n",
        "        </p>"
      ]
    }
  ]
}